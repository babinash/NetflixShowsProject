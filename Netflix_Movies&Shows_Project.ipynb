{
  "nbformat": 4,
  "nbformat_minor": 0,
  "metadata": {
    "colab": {
      "private_outputs": true,
      "provenance": [],
      "collapsed_sections": [
        "w6K7xa23Elo4",
        "mDgbUHAGgjLW",
        "gIfDvo9L0UH2"
      ],
      "gpuType": "T4",
      "cell_execution_strategy": "setup",
      "include_colab_link": true
    },
    "kernelspec": {
      "name": "python3",
      "display_name": "Python 3"
    },
    "language_info": {
      "name": "python"
    },
    "accelerator": "GPU"
  },
  "cells": [
    {
      "cell_type": "markdown",
      "metadata": {
        "id": "view-in-github",
        "colab_type": "text"
      },
      "source": [
        "<a href=\"https://colab.research.google.com/github/babinash/NetflixShowsProject/blob/main/Netflix_Movies%26Shows_Project.ipynb\" target=\"_parent\"><img src=\"https://colab.research.google.com/assets/colab-badge.svg\" alt=\"Open In Colab\"/></a>"
      ]
    },
    {
      "cell_type": "markdown",
      "source": [
        "# **Project Name**    - Netflix Movies and TV Shows Clustering\n",
        "\n"
      ],
      "metadata": {
        "id": "vncDsAP0Gaoa"
      }
    },
    {
      "cell_type": "markdown",
      "source": [
        "##### **Project Type**    - Unsupervised\n",
        "##### **Contribution**    - Individual\n"
      ],
      "metadata": {
        "id": "beRrZCGUAJYm"
      }
    },
    {
      "cell_type": "markdown",
      "source": [
        "# **Project Summary -**"
      ],
      "metadata": {
        "id": "FJNUwmbgGyua"
      }
    },
    {
      "cell_type": "markdown",
      "source": [
        "Write the summary here within 500-600 words.\n",
        "\n",
        "Netflix is the world's largest online streaming service provider with over 220 million subscribers as of 2022-Q2.\n",
        "\n",
        "Effective clustering of shows on the Netflix platform is crucial for enhancing the user experience and preventing subscriber churn.\n",
        "\n",
        "The goal of the project is to classify/group Netflix shows into clusters based on similarity, allowing for personalized show suggestions to users.\n",
        "\n",
        "The dataset used for this project consists of TV shows and movies available on Netflix as of 2019, collected from Flixable, a third-party Netflix search engine.\n",
        "\n",
        "A report from 2018 revealed that the number of TV shows on Netflix has nearly tripled since 2010, while the number of movies has decreased by over 2,000 titles.\n",
        "\n",
        "Exploring the dataset can uncover further insights, such as understanding the types of content available in different countries and whether Netflix has shifted its focus more towards TV shows in recent years.\n",
        "\n",
        "Integrating external datasets like IMDB ratings and Rotten Tomatoes can provide additional interesting findings.\n",
        "\n",
        "Exploratory data analysis can help in understanding the distribution of content types, analyzing trends over time, and identifying patterns or relationships in the data.\n",
        "\n",
        "Text-based features can be utilized to cluster similar content, allowing for a better understanding of the relationships between different shows and movies on Netflix.\n",
        "\n",
        "Clustering shows on Netflix based on similarity can enable the platform to offer personalized recommendations to users, improving user engagement and satisfaction.\n",
        "\n",
        "The dataset from Flixable provides an opportunity to explore the growth and evolution of Netflix's content library, particularly the shift towards producing and acquiring more TV shows.\n",
        "\n",
        "Analyzing the distribution of content types in different countries can reveal regional preferences and help Netflix tailor its offerings to specific markets.\n",
        "\n",
        "By integrating external datasets such as IMDB ratings and Rotten Tomatoes, Netflix can gain insights into the quality and popularity of its content, which can inform decision-making processes related to acquisitions and content production.\n",
        "\n",
        "Clustering shows based on text-based features, such as genre, description, or cast information, can uncover hidden patterns and similarities among different titles, allowing for more targeted content recommendations and a better understanding of user preferences.\n",
        "\n",
        "These points provide an overview of the objectives, dataset, insights, and methods involved in the project."
      ],
      "metadata": {
        "id": "F6v_1wHtG2nS"
      }
    },
    {
      "cell_type": "markdown",
      "source": [
        "# **In this project, you are required to do**\n",
        "\n",
        "Exploratory Data Analysis\n",
        "\n",
        "Understanding what type content is available in different countries\n",
        "\n",
        "Is Netflix has increasingly focusing on TV rather than movies in recent years.\n",
        "\n",
        "Clustering similar content by matching text-based features"
      ],
      "metadata": {
        "id": "Mn3dq_H-edfJ"
      }
    },
    {
      "cell_type": "markdown",
      "source": [
        "# **GitHub Link -**"
      ],
      "metadata": {
        "id": "w6K7xa23Elo4"
      }
    },
    {
      "cell_type": "markdown",
      "source": [
        "Provide your GitHub Link here."
      ],
      "metadata": {
        "id": "h1o69JH3Eqqn"
      }
    },
    {
      "cell_type": "markdown",
      "source": [
        "# **Problem Statement**\n"
      ],
      "metadata": {
        "id": "yQaldy8SH6Dl"
      }
    },
    {
      "cell_type": "markdown",
      "source": [
        "**Write Problem Statement Here.**\n",
        "\n",
        "This dataset consists of tv shows and movies available on Netflix as of 2019. The dataset is collected from Flixable which is a third-party Netflix search engine.\n",
        "\n",
        "In 2018, they released an interesting report which shows that the number of TV shows on Netflix has nearly tripled since 2010. The streaming service’s number of movies has decreased by more than 2,000 titles since 2010, while its number of TV shows has nearly tripled. It will be interesting to explore what all other insights can be obtained from the same dataset.\n",
        "\n",
        "Integrating this dataset with other external datasets such as IMDB ratings, rotten tomatoes can also provide many interesting findings."
      ],
      "metadata": {
        "id": "DpeJGUA3kjGy"
      }
    },
    {
      "cell_type": "markdown",
      "source": [
        "# **General Guidelines** : -  "
      ],
      "metadata": {
        "id": "mDgbUHAGgjLW"
      }
    },
    {
      "cell_type": "markdown",
      "source": [
        "1.   Well-structured, formatted, and commented code is required.\n",
        "2.   Exception Handling, Production Grade Code & Deployment Ready Code will be a plus. Those students will be awarded some additional credits.\n",
        "     \n",
        "     The additional credits will have advantages over other students during Star Student selection.\n",
        "       \n",
        "             [ Note: - Deployment Ready Code is defined as, the whole .ipynb notebook should be executable in one go\n",
        "                       without a single error logged. ]\n",
        "\n",
        "3.   Each and every logic should have proper comments.\n",
        "4. You may add as many number of charts you want. Make Sure for each and every chart the following format should be answered.\n",
        "        \n",
        "\n",
        "```\n",
        "# Chart visualization code\n",
        "```\n",
        "            \n",
        "\n",
        "*   Why did you pick the specific chart?\n",
        "*   What is/are the insight(s) found from the chart?\n",
        "* Will the gained insights help creating a positive business impact?\n",
        "Are there any insights that lead to negative growth? Justify with specific reason.\n",
        "\n",
        "5. You have to create at least 15 logical & meaningful charts having important insights.\n",
        "\n",
        "\n",
        "[ Hints : - Do the Vizualization in  a structured way while following \"UBM\" Rule.\n",
        "\n",
        "U - Univariate Analysis,\n",
        "\n",
        "B - Bivariate Analysis (Numerical - Categorical, Numerical - Numerical, Categorical - Categorical)\n",
        "\n",
        "M - Multivariate Analysis\n",
        " ]\n",
        "\n",
        "\n",
        "\n",
        "\n",
        "\n",
        "6. You may add more ml algorithms for model creation. Make sure for each and every algorithm, the following format should be answered.\n",
        "\n",
        "\n",
        "*   Explain the ML Model used and it's performance using Evaluation metric Score Chart.\n",
        "\n",
        "\n",
        "*   Cross- Validation & Hyperparameter Tuning\n",
        "\n",
        "*   Have you seen any improvement? Note down the improvement with updates Evaluation metric Score Chart.\n",
        "\n",
        "*   Explain each evaluation metric's indication towards business and the business impact pf the ML model used.\n",
        "\n",
        "\n",
        "\n",
        "\n",
        "\n",
        "\n",
        "\n",
        "\n",
        "\n",
        "\n",
        "\n",
        "\n",
        "\n",
        "\n",
        "\n",
        "\n",
        "\n",
        "\n"
      ],
      "metadata": {
        "id": "ZrxVaUj-hHfC"
      }
    },
    {
      "cell_type": "markdown",
      "source": [
        "# ***Let's Begin !***"
      ],
      "metadata": {
        "id": "O_i_v8NEhb9l"
      }
    },
    {
      "cell_type": "markdown",
      "source": [
        "## ***1. Know Your Data***"
      ],
      "metadata": {
        "id": "HhfV-JJviCcP"
      }
    },
    {
      "cell_type": "markdown",
      "source": [
        "### Import Libraries"
      ],
      "metadata": {
        "id": "Y3lxredqlCYt"
      }
    },
    {
      "cell_type": "code",
      "source": [
        "# Import Libraries\n",
        "import numpy as np\n",
        "import pandas as pd\n",
        "from numpy import math\n",
        "import seaborn as sns\n",
        "import matplotlib.pyplot as plt\n",
        "import matplotlib.ticker as mtick\n",
        "from matplotlib.pyplot import figure\n",
        "import plotly.graph_objects as go\n",
        "import plotly.offline as py\n",
        "import plotly.express as px\n",
        "from datetime import datetime\n",
        "\n",
        "import warnings\n",
        "warnings.filterwarnings('ignore')"
      ],
      "metadata": {
        "id": "M8Vqi-pPk-HR"
      },
      "execution_count": null,
      "outputs": []
    },
    {
      "cell_type": "markdown",
      "source": [
        "### Dataset Loading"
      ],
      "metadata": {
        "id": "3RnN4peoiCZX"
      }
    },
    {
      "cell_type": "code",
      "source": [
        "# Load Dataset\n",
        "from google.colab import drive\n",
        "drive.mount('/content/drive')\n",
        "df=pd.read_csv('/content/drive/MyDrive/NETFLIX MOVIES AND TV SHOWS CLUSTERING.csv')"
      ],
      "metadata": {
        "id": "4CkvbW_SlZ_R"
      },
      "execution_count": null,
      "outputs": []
    },
    {
      "cell_type": "markdown",
      "source": [
        "### Dataset First View"
      ],
      "metadata": {
        "id": "x71ZqKXriCWQ"
      }
    },
    {
      "cell_type": "code",
      "source": [
        "# Dataset First Look\n",
        "df.head() #top 5 rows"
      ],
      "metadata": {
        "id": "LWNFOSvLl09H"
      },
      "execution_count": null,
      "outputs": []
    },
    {
      "cell_type": "code",
      "source": [
        "#last 5 rows\n",
        "df.tail()"
      ],
      "metadata": {
        "id": "EnYa6vNwf7wC"
      },
      "execution_count": null,
      "outputs": []
    },
    {
      "cell_type": "code",
      "source": [
        "# Checking the shape of the dataframe\n",
        "df.shape"
      ],
      "metadata": {
        "id": "KQvw6Du9gr3b"
      },
      "execution_count": null,
      "outputs": []
    },
    {
      "cell_type": "code",
      "source": [
        "# Columns name\n",
        "df.columns"
      ],
      "metadata": {
        "id": "g_My7tEjgxad"
      },
      "execution_count": null,
      "outputs": []
    },
    {
      "cell_type": "markdown",
      "source": [
        "There are 12 columns."
      ],
      "metadata": {
        "id": "MTkjx975g3LM"
      }
    },
    {
      "cell_type": "markdown",
      "source": [
        "# **Attribute Information**"
      ],
      "metadata": {
        "id": "u97eYmsvhB6y"
      }
    },
    {
      "cell_type": "markdown",
      "source": [
        "1. show_id : Unique ID for every Movie / Tv Show\n",
        "\n",
        "2. type : Identifier - A Movie or TV Show\n",
        "\n",
        "3. title : Title of the Movie / Tv Show\n",
        "\n",
        "4. director : Director of the Movie\n",
        "\n",
        "5. cast : Actors involved in the movie / show\n",
        "\n",
        "6. country : Country where the movie / show was produced\n",
        "\n",
        "7. date_added : Date it was added on Netflix\n",
        "\n",
        "8. release_year : Actual Releaseyear of the movie / show\n",
        "\n",
        "9. rating : TV Rating of the movie / show\n",
        "\n",
        "10. duration : Total Duration - in minutes or number of seasons\n",
        "\n",
        "11. listed_in : Genere\n",
        "\n",
        "12. description: The Summary description"
      ],
      "metadata": {
        "id": "VlgiJ5VKhM1N"
      }
    },
    {
      "cell_type": "markdown",
      "source": [
        "## Checking Datatypes"
      ],
      "metadata": {
        "id": "FqgIrrwyhZCF"
      }
    },
    {
      "cell_type": "code",
      "source": [
        "# Information about the dataset\n",
        "df.info()"
      ],
      "metadata": {
        "id": "qR8qZ8nhhiCa"
      },
      "execution_count": null,
      "outputs": []
    },
    {
      "cell_type": "markdown",
      "source": [
        "# **Data processing**"
      ],
      "metadata": {
        "id": "-DsN_d8-hqS5"
      }
    },
    {
      "cell_type": "code",
      "source": [
        "#Drop duplicates\n",
        "df[df.duplicated()]"
      ],
      "metadata": {
        "id": "456cF5_rhvnk"
      },
      "execution_count": null,
      "outputs": []
    },
    {
      "cell_type": "markdown",
      "source": [
        "There are no duplicated values"
      ],
      "metadata": {
        "id": "rzj2snleh0IB"
      }
    },
    {
      "cell_type": "markdown",
      "source": [
        "**Handling Null values**"
      ],
      "metadata": {
        "id": "tFtaSa3Xh-VW"
      }
    },
    {
      "cell_type": "code",
      "source": [
        "#Checking Null Values\n",
        "df.isnull().sum()"
      ],
      "metadata": {
        "id": "0XuuR6z1h_8M"
      },
      "execution_count": null,
      "outputs": []
    },
    {
      "cell_type": "code",
      "source": [
        "#total null values\n",
        "df.isnull().sum().sum()"
      ],
      "metadata": {
        "id": "CkZSdQuNiKN2"
      },
      "execution_count": null,
      "outputs": []
    },
    {
      "cell_type": "markdown",
      "source": [
        "There are 3631 null values in the dataset, 2389 null values in director column, 718 null values in cast column ,507 null values in country column ,10 in date_added and 7 in rating. so we need to handle the null values"
      ],
      "metadata": {
        "id": "rXaDcWwRiXlS"
      }
    },
    {
      "cell_type": "code",
      "source": [
        "#Handling Null Values\n",
        "df['cast'].fillna(value='No cast',inplace=True)\n",
        "df['country'].fillna(value=df['country'].mode()[0],inplace=True)"
      ],
      "metadata": {
        "id": "_5jGgQNJiiRn"
      },
      "execution_count": null,
      "outputs": []
    },
    {
      "cell_type": "code",
      "source": [
        "#'date_added' and 'rating' contains an insignificant portion of the data so we will drop them from the dataset\n",
        "df.dropna(subset=['date_added','rating'],inplace=True)"
      ],
      "metadata": {
        "id": "-8cAzPSCiiGO"
      },
      "execution_count": null,
      "outputs": []
    },
    {
      "cell_type": "code",
      "source": [
        "#Dropping Director Column\n",
        "df.drop(['director'],axis=1,inplace=True)"
      ],
      "metadata": {
        "id": "LG4ELKX1ih4w"
      },
      "execution_count": null,
      "outputs": []
    },
    {
      "cell_type": "code",
      "source": [
        "#again checking is there any null values are not\n",
        "df.isnull().sum()"
      ],
      "metadata": {
        "id": "VGOpwlb0ihrH"
      },
      "execution_count": null,
      "outputs": []
    },
    {
      "cell_type": "markdown",
      "source": [
        "# **Exploratory Data Analysis**"
      ],
      "metadata": {
        "id": "V55UHJeRi5pt"
      }
    },
    {
      "cell_type": "markdown",
      "source": [
        "**1. Count of Movies and TV Shows**"
      ],
      "metadata": {
        "id": "2PvmM24ZjAqx"
      }
    },
    {
      "cell_type": "code",
      "source": [
        "df['type'].value_counts()"
      ],
      "metadata": {
        "id": "rQmoqAefjFLk"
      },
      "execution_count": null,
      "outputs": []
    },
    {
      "cell_type": "code",
      "source": [
        "#countplot to visualize the number of movies and tv_shows in type column\n",
        "sns.countplot(df['type'])"
      ],
      "metadata": {
        "id": "chRKjwTejE7t"
      },
      "execution_count": null,
      "outputs": []
    },
    {
      "cell_type": "markdown",
      "source": [
        "* On Netflix, there are 5,372 movies and 2,398 TV shows available.\n",
        "\n",
        "* This indicates that the number of movies on Netflix is higher than the number of TV shows, highlighting a greater quantity of movies compared to TV show content on the platform."
      ],
      "metadata": {
        "id": "vHPg1B-Yjmgf"
      }
    },
    {
      "cell_type": "markdown",
      "source": [
        "**2. Which category has highest ratings.**"
      ],
      "metadata": {
        "id": "Kb7CyJk_jsD1"
      }
    },
    {
      "cell_type": "code",
      "source": [
        "df['rating']"
      ],
      "metadata": {
        "id": "RsqyYY3Ljxcc"
      },
      "execution_count": null,
      "outputs": []
    },
    {
      "cell_type": "code",
      "source": [
        "#Assigning the Ratings into grouped categories\n",
        "ratings = {\n",
        "    'TV-PG': 'Older Kids',\n",
        "    'TV-MA': 'Adults',\n",
        "    'TV-Y7-FV': 'Older Kids',\n",
        "    'TV-Y7': 'Older Kids',\n",
        "    'TV-14': 'Teens',\n",
        "    'R': 'Adults',\n",
        "    'TV-Y': 'Kids',\n",
        "    'NR': 'Adults',\n",
        "    'PG-13': 'Teens',\n",
        "    'TV-G': 'Kids',\n",
        "    'PG': 'Older Kids',\n",
        "    'G': 'Kids',\n",
        "    'UR': 'Adults',\n",
        "    'NC-17': 'Adults'\n",
        "}\n",
        "df['target_ages'] = df['rating'].replace(ratings)"
      ],
      "metadata": {
        "id": "zztrtiVcjxRv"
      },
      "execution_count": null,
      "outputs": []
    },
    {
      "cell_type": "code",
      "source": [
        "# type should be a category\n",
        "df['type'] = pd.Categorical(df['type'])\n",
        "df['target_ages'] = pd.Categorical(df['target_ages'], categories=['Kids', 'Older Kids', 'Teens', 'Adults'])"
      ],
      "metadata": {
        "id": "0stzasgKjxGn"
      },
      "execution_count": null,
      "outputs": []
    },
    {
      "cell_type": "code",
      "source": [
        "df"
      ],
      "metadata": {
        "id": "FqlueY37jw6f"
      },
      "execution_count": null,
      "outputs": []
    },
    {
      "cell_type": "code",
      "source": [
        "#creating two extra columns\n",
        "tv_shows=df[df['type']=='TV Show']\n",
        "movies=df[df['type']=='Movie']"
      ],
      "metadata": {
        "id": "3O70EBfUkQM6"
      },
      "execution_count": null,
      "outputs": []
    },
    {
      "cell_type": "code",
      "source": [
        "#Rating based on rating system of all TV Shows\n",
        "tv_ratings = tv_shows.groupby(['rating'])['show_id'].count().reset_index(name='count').sort_values(by='count',ascending=False)\n",
        "fig_dims = (14,7)\n",
        "fig, ax = plt.subplots(figsize=fig_dims)\n",
        "sns.pointplot(x='rating',y='count',data=tv_ratings)\n",
        "plt.title('TV Show Ratings',size='20')\n",
        "plt.show()"
      ],
      "metadata": {
        "id": "liiAK6N5kQAM"
      },
      "execution_count": null,
      "outputs": []
    },
    {
      "cell_type": "markdown",
      "source": [
        "* For TV shows on Netflix, the TV-MA rating category has the highest number of ratings. TV-MA stands for \"TV Mature Audience,\" indicating that the content is intended for adult audiences due to its mature themes, language, or content. This suggests that Netflix offers a significant amount of content targeted at adult viewers."
      ],
      "metadata": {
        "id": "exSdxpUTkfxc"
      }
    },
    {
      "cell_type": "code",
      "source": [
        "#Movie Ratings based on Target Age Groups\n",
        "plt.figure(figsize=(14,6))\n",
        "plt.title('movie ratings')\n",
        "sns.countplot(x=movies['rating'],hue=movies['target_ages'],data=movies,order=movies['rating'].value_counts().index)"
      ],
      "metadata": {
        "id": "0t9uudUYknAK"
      },
      "execution_count": null,
      "outputs": []
    },
    {
      "cell_type": "markdown",
      "source": [
        "* In both cases, TV-MA has the highest number of ratings for TV shows, indicating that it is the rating category with the most content targeted at adult audiences. TV-MA is associated with mature themes, strong language, and explicit content, making it suitable for viewers who are 17 years or older. This observation suggests that Netflix offers a considerable amount of content catering to adult viewers."
      ],
      "metadata": {
        "id": "BaVRyFMDk2_d"
      }
    },
    {
      "cell_type": "markdown",
      "source": [
        "**3.Release_year**"
      ],
      "metadata": {
        "id": "EMQfwTXok_UA"
      }
    },
    {
      "cell_type": "markdown",
      "source": [
        "In which year maximum no. of Movies released."
      ],
      "metadata": {
        "id": "VsHXjb8FlHA3"
      }
    },
    {
      "cell_type": "code",
      "source": [
        "movies_year =movies['release_year'].value_counts().sort_index(ascending=False)"
      ],
      "metadata": {
        "id": "SfBMQdIGlIsq"
      },
      "execution_count": null,
      "outputs": []
    },
    {
      "cell_type": "code",
      "source": [
        "movies_year"
      ],
      "metadata": {
        "id": "LW9Eg2jjlPT1"
      },
      "execution_count": null,
      "outputs": []
    },
    {
      "cell_type": "code",
      "source": [
        "tvshows_year =tv_shows['release_year'].value_counts().sort_index(ascending=False)"
      ],
      "metadata": {
        "id": "VJYq5uzQlT2e"
      },
      "execution_count": null,
      "outputs": []
    },
    {
      "cell_type": "code",
      "source": [
        "# visualizing the movies and tv_shows based on the release year\n",
        "sns.set(font_scale=1.4)\n",
        "movies_year.plot(figsize=(12, 8), linewidth=2.5, color='maroon',label=\"Movies / year\",ms=3)\n",
        "tvshows_year.plot(figsize=(12, 8), linewidth=2.5, color='blue',label=\"TV Shows / year\")\n",
        "plt.xlabel(\"Years\", labelpad=15)\n",
        "plt.ylabel(\"Number\", labelpad=15)\n",
        "plt.title(\"Production growth yearly\", y=1.02, fontsize=22);"
      ],
      "metadata": {
        "id": "J7n9UgzglTqh"
      },
      "execution_count": null,
      "outputs": []
    },
    {
      "cell_type": "code",
      "source": [
        "#Analysing how many movies released per year in last 20 years\n",
        "plt.figure(figsize=(15,5))\n",
        "sns.countplot(y=movies['release_year'],data=df,order=movies['release_year'].value_counts().index[0:20])"
      ],
      "metadata": {
        "id": "97vbdhdUllD6"
      },
      "execution_count": null,
      "outputs": []
    },
    {
      "cell_type": "markdown",
      "source": [
        "* The highest number of movies was released in the years 2017 and 2018. These two years saw a significant influx of movies being added to the Netflix platform, indicating a robust release of new content during that period. The specific number of movies released in each year can be obtained from the dataset or further analysis."
      ],
      "metadata": {
        "id": "CMdcHyVnl1M5"
      }
    },
    {
      "cell_type": "code",
      "source": [
        "tvshows_year"
      ],
      "metadata": {
        "id": "pTOvHuKHlkyE"
      },
      "execution_count": null,
      "outputs": []
    },
    {
      "cell_type": "code",
      "source": [
        "#Analysing how many movies released per year in last 15 years\n",
        "plt.figure(figsize=(15,5))\n",
        "sns.countplot(y=tv_shows['release_year'],data=df,order=tv_shows['release_year'].value_counts().index[0:20])"
      ],
      "metadata": {
        "id": "5-M2TuK3mFgp"
      },
      "execution_count": null,
      "outputs": []
    },
    {
      "cell_type": "markdown",
      "source": [
        "*  Highest number of movies released in 2017 and 2018\n",
        "*  Highest number of movies released in 2020\n",
        "*  The number of movies on Netflix is growing significantly faster than the number of TV shows.\n",
        "*   We saw a huge increase in the number of movies and television episodes after 2015.\n",
        "*   There is a significant drop in the number of movies and television episodes produced after 2020.\n",
        "*   It appears that Netflix has focused more attention on increasing Movie content that TV Shows. Movies have increased much more dramatically than TV shows."
      ],
      "metadata": {
        "id": "AVXCGe28mPg9"
      }
    },
    {
      "cell_type": "code",
      "source": [
        "df"
      ],
      "metadata": {
        "id": "G6mPL52Gmd1P"
      },
      "execution_count": null,
      "outputs": []
    },
    {
      "cell_type": "code",
      "source": [
        "#adding columns of month and year of addition\n",
        "\n",
        "df['month'] = pd.DatetimeIndex(df['date_added']).month\n",
        "df.head()"
      ],
      "metadata": {
        "id": "LOLl9X1emqYO"
      },
      "execution_count": null,
      "outputs": []
    },
    {
      "cell_type": "markdown",
      "source": [
        "**4.Release_month**\n",
        "\n",
        "In which month Maximum no. of movies released."
      ],
      "metadata": {
        "id": "ibcXMp7rm3UV"
      }
    },
    {
      "cell_type": "code",
      "source": [
        "from typing import Any\n",
        "# Plotting the Countplot\n",
        "plt.figure(figsize=(10,10))\n",
        "ax=sns.countplot(x='month',data = df)"
      ],
      "metadata": {
        "id": "lms12QhlmqIu"
      },
      "execution_count": null,
      "outputs": []
    },
    {
      "cell_type": "markdown",
      "source": [
        "* The period from October to January experienced the highest influx of new movies and TV shows being added to the Netflix platform. During these months, there was a notable increase in the number of content additions, indicating a peak in new releases and updates to the streaming service's library. This timeframe is likely associated with the holiday season and colder months when people tend to spend more time indoors and engage in streaming entertainment."
      ],
      "metadata": {
        "id": "VBkcGWLIpKAf"
      }
    },
    {
      "cell_type": "code",
      "source": [
        "fig, ax = plt.subplots(figsize=(15,6))\n",
        "\n",
        "sns.countplot(x='month', hue='type',lw=5, data=df, ax=ax)"
      ],
      "metadata": {
        "id": "EkVwwjaMpPF5"
      },
      "execution_count": null,
      "outputs": []
    },
    {
      "cell_type": "markdown",
      "source": [
        "* The above graph shows that the most content is added to Netflix from october to january.\n",
        "\n",
        "* During this period, there is a significant spike in the number of additions, indicating a concentrated period of content updates and releases on the platform. This trend suggests that Netflix strategically focuses on introducing new movies and TV shows during the end-of-year holiday season and the beginning of the new year, potentially to cater to increased viewer demand during these months."
      ],
      "metadata": {
        "id": "UeR-HEYgpdHK"
      }
    },
    {
      "cell_type": "markdown",
      "source": [
        "**5.genre**"
      ],
      "metadata": {
        "id": "rBiGRVVzpk7Z"
      }
    },
    {
      "cell_type": "markdown",
      "source": [
        "Which genre is more popular."
      ],
      "metadata": {
        "id": "8gPJlAQrpoy8"
      }
    },
    {
      "cell_type": "code",
      "source": [
        "#Analysing top10 genre of the movies\n",
        "plt.figure(figsize=(14,6))\n",
        "plt.title('Top10 Genre of Movies',fontweight=\"bold\")\n",
        "sns.countplot(y=movies['listed_in'],data=movies,order=movies['listed_in'].value_counts().index[0:10])"
      ],
      "metadata": {
        "id": "dNwZdo3yptQm"
      },
      "execution_count": null,
      "outputs": []
    },
    {
      "cell_type": "markdown",
      "source": [
        "* Documentaries are the top most genre in netflix which is fllowed by standup comedy and Dramas and international movies.\n",
        "\n",
        "* Documentaries likely hold a significant position due to their educational and informative nature, appealing to a wide range of viewers. Stand-up comedy, known for its entertaining and comedic performances, is also highly popular. Dramas, with their compelling narratives and emotional depth, attract a substantial audience. Additionally, the inclusion of international movies highlights the global appeal and diverse content available on Netflix, catering to viewers' preferences from various regions and cultures."
      ],
      "metadata": {
        "id": "lzV62LOip7Nu"
      }
    },
    {
      "cell_type": "code",
      "source": [
        "#Analysing top10 genres of TVSHOWS\n",
        "plt.figure(figsize=(14,6))\n",
        "plt.title('Top10 Genre of TV Shows',fontweight=\"bold\")\n",
        "sns.countplot(y=tv_shows['listed_in'],data=tv_shows,order=tv_shows['listed_in'].value_counts().index[0:10])"
      ],
      "metadata": {
        "id": "m3T9VD-OqCjX"
      },
      "execution_count": null,
      "outputs": []
    },
    {
      "cell_type": "markdown",
      "source": [
        "* According to the information provided, the top genre for TV shows on Netflix is \"Kids TV.\" This genre specifically caters to children and offers age-appropriate content that is entertaining and educational for young viewers. The popularity of kids' TV shows on Netflix reflects the platform's efforts to provide a diverse range of programming for different audience segments, including children and families. By offering a variety of kids' TV shows, Netflix aims to meet the entertainment needs of young viewers and provide a safe and enjoyable streaming experience for families.\n"
      ],
      "metadata": {
        "id": "Bp6PIIGhqLpy"
      }
    },
    {
      "cell_type": "markdown",
      "source": [
        "**6.Duration**\n",
        "\n",
        "Which Season has the maximum duration."
      ],
      "metadata": {
        "id": "Z1_PLlrCqV1R"
      }
    },
    {
      "cell_type": "code",
      "source": [
        "#Checking the distribution of Movie Durations\n",
        "plt.figure(figsize=(10,7))\n",
        "#Regular Expression pattern \\d is a regex pattern for digit + is a regex pattern for at leas\n",
        "sns.distplot(movies['duration'].str.extract('(\\d+)'),kde=False, color=['red'])\n",
        "plt.title('Distplot with Normal distribution for Movies',fontweight=\"bold\")\n",
        "plt.show()"
      ],
      "metadata": {
        "id": "PmduF5yPqaRj"
      },
      "execution_count": null,
      "outputs": []
    },
    {
      "cell_type": "markdown",
      "source": [
        "* Most of the movies have duration of between 50 to 150.\n",
        "\n",
        "* This duration range suggests that the majority of movies available on the platform fall within a standard feature film length. Movies within this duration range are likely to provide a complete and engaging storytelling experience within a reasonable time frame. It indicates that Netflix offers a diverse selection of movies that cater to various preferences and viewing preferences, ensuring there are options available for shorter and longer viewing sessions."
      ],
      "metadata": {
        "id": "8NRdY0fgqmhI"
      }
    },
    {
      "cell_type": "code",
      "source": [
        "#Checking the distribution of TV SHOWS\n",
        "plt.figure(figsize=(30,6))\n",
        "plt.title(\"Distribution of TV Shows duration\",fontweight='bold')\n",
        "sns.countplot(x=tv_shows['duration'],data=tv_shows,order = tv_shows['duration'].value_counts().index)"
      ],
      "metadata": {
        "id": "BeKcvTHHqw6x"
      },
      "execution_count": null,
      "outputs": []
    },
    {
      "cell_type": "markdown",
      "source": [
        "* Highest number of tv_shows consistig of single season.\n",
        "* This indicates that there is a significant portion of TV shows available on the platform that were either intended to be a limited series or were discontinued after a single season. These TV shows might offer a concise and self-contained narrative within a single season, providing viewers with a complete story arc. It also suggests that Netflix offers a diverse range of TV shows, including both long-running series and shorter, self-contained ones, catering to different viewer preferences and providing a variety of content options."
      ],
      "metadata": {
        "id": "LI641O10q58a"
      }
    },
    {
      "cell_type": "code",
      "source": [
        "movies['minute'] = movies['duration'].str.extract('(\\d+)').apply(pd.to_numeric)\n",
        "duration_year = movies.groupby(['rating'])['minute'].mean()\n",
        "duration_df=pd.DataFrame(duration_year).sort_values('minute')\n",
        "plt.figure(figsize=(12,6))\n",
        "ax=sns.barplot(x=duration_df.index, y=duration_df.minute)"
      ],
      "metadata": {
        "id": "2i_rUZEMrBOR"
      },
      "execution_count": null,
      "outputs": []
    },
    {
      "cell_type": "markdown",
      "source": [
        "* Movies with an NC-17 rating tend to have the longest average duration among all rating categories. The NC-17 rating signifies that the content is intended for mature audiences only, usually due to explicit or graphic content. These movies often explore adult themes and can have extended runtimes to accommodate complex storytelling or explicit scenes.\n",
        "\n",
        "* On the other hand, movies with a TV-Y rating, which is intended for young children, have the shortest average runtime. TV-Y-rated movies are typically designed to be age-appropriate and suitable for all audiences, including young viewers. As a result, they often have shorter runtimes to match the attention span and viewing preferences of young children.\n",
        "\n",
        "* These observations highlight the correlation between content rating and movie duration, with more mature content often being associated with longer runtimes, while movies for younger audiences tend to be shorter to cater to their needs and engagement levels."
      ],
      "metadata": {
        "id": "6zGgpudMrKxD"
      }
    },
    {
      "cell_type": "markdown",
      "source": [
        "**7.country**\n",
        "\n",
        "Which country has the maximum no. of content on Netflix."
      ],
      "metadata": {
        "id": "NfbkzdILrSWm"
      }
    },
    {
      "cell_type": "code",
      "source": [
        "#Analysing top15 countries with most content\n",
        "plt.figure(figsize=(18,5))\n",
        "sns.countplot(x=df['country'],order=df['country'].value_counts().index[0:15],hue=df['type'])\n",
        "plt.xticks(rotation=50)\n",
        "plt.title('Top 15 countries with most contents', fontsize=15, fontweight='bold')\n",
        "plt.show()"
      ],
      "metadata": {
        "id": "EwhDvo_jrYjI"
      },
      "execution_count": null,
      "outputs": []
    },
    {
      "cell_type": "markdown",
      "source": [
        "* Unitated States has the highest number of content on the netflix ,followed by India.\n",
        "* This indicates that the Netflix library offers a significant amount of content targeted at viewers in these two countries.\n",
        "* The United States, being the home country of Netflix, has a diverse range of movies and TV shows available on the platform.\n",
        "* India, with its large population and growing market for streaming services, has also emerged as a significant contributor to the Netflix content library.\n",
        "* The presence of a substantial amount of content from both the United States and India suggests that Netflix aims to cater to the preferences and interests of viewers in these key markets."
      ],
      "metadata": {
        "id": "F93h2JssrgWK"
      }
    },
    {
      "cell_type": "code",
      "source": [
        "#top_two countries where netflix is most popular\n",
        "country=df['country'].value_counts().reset_index()\n",
        "country"
      ],
      "metadata": {
        "id": "CHzIN0jkrk7R"
      },
      "execution_count": null,
      "outputs": []
    },
    {
      "cell_type": "code",
      "source": [
        "# Plotting the Horizontal bar plot for top 10 country contains Movie & TV Show split\n",
        "country_order = df['country'].value_counts()[:11].index\n",
        "content_data = df[['type', 'country']].groupby('country')['type'].value_counts().unstack().loc[country_order]\n",
        "content_data['sum'] = content_data.sum(axis=1)\n",
        "content_data_ratio = (content_data.T / content_data['sum']).T[['Movie', 'TV Show']].sort_values(by='Movie',ascending=False)[::-1]\n",
        "\n",
        "# Plotting the barh\n",
        "fig, ax = plt.subplots(1,1,figsize=(15, 8),)\n",
        "\n",
        "ax.barh(content_data_ratio.index, content_data_ratio['Movie'],\n",
        "        color='crimson', alpha=0.8, label='Movie')\n",
        "ax.barh(content_data_ratio.index, content_data_ratio['TV Show'], left=content_data_ratio['Movie'],\n",
        "        color='black', alpha=0.8, label='TV Show')"
      ],
      "metadata": {
        "id": "dUX9kUiXrwM8"
      },
      "execution_count": null,
      "outputs": []
    },
    {
      "cell_type": "markdown",
      "source": [
        "* India has highest number of movies in Netflix.\n",
        "* This indicates that the Netflix library includes a significant collection of movies specifically targeted towards Indian viewers. Given the popularity of Indian cinema and the large film industry in India, it is not surprising to see a substantial number of Indian movies featured on the platform. This diverse selection of Indian movies allows Netflix to cater to the preferences and interests of its Indian audience and provides them with a wide range of choices from the Indian film industry."
      ],
      "metadata": {
        "id": "izDuu2w1r6lD"
      }
    },
    {
      "cell_type": "code",
      "source": [
        "# Preparing data for heatmap\n",
        "df['count'] = 1\n",
        "data = df.groupby('country')[['count']].sum().sort_values(by='count',ascending=False).reset_index()[:10]\n",
        "top_countries = data['country']\n",
        "\n",
        "\n",
        "df_heatmap = df[df['country'].isin(top_countries)]\n",
        "df_heatmap = pd.crosstab(df_heatmap['country'],df_heatmap['target_ages'],normalize = \"index\").T\n",
        "df_heatmap"
      ],
      "metadata": {
        "id": "_xW1lBGbsADv"
      },
      "execution_count": null,
      "outputs": []
    },
    {
      "cell_type": "code",
      "source": [
        "# Plotting the heatmap\n",
        "fig, ax = plt.subplots(1, 1, figsize=(10, 10))\n",
        "\n",
        "country_order2 = ['United States', 'India', 'United Kingdom', 'Canada', 'Japan', 'France', 'South Korea', 'Spain',\n",
        "       'Mexico']\n",
        "\n",
        "age_order = ['Adults', 'Teens', 'Older Kids', 'Kids']\n",
        "\n",
        "sns.heatmap(df_heatmap.loc[age_order,country_order2],cmap=\"YlGnBu\",square=True, linewidth=2.5,cbar=False, annot=True,fmt='1.0%',vmax=.6,vmin=0.05,ax=ax,annot_kws={\"fontsize\":12})\n",
        "plt.show()"
      ],
      "metadata": {
        "id": "eY5_WmkRvhUy"
      },
      "execution_count": null,
      "outputs": []
    },
    {
      "cell_type": "markdown",
      "source": [
        "* The target age demographics for Netflix in the US and UK are closely aligned, indicating that the content offered by the platform caters to similar age groups in these countries. However, when compared to countries like India or Japan, the target age demographics differ significantly. This suggests that the content preferences and interests of viewers in India or Japan may vary significantly from those in the US and UK. Netflix likely tailors its content selection and recommendations to cater to the specific preferences and cultural nuances of each country.\n",
        "\n",
        "* On the other hand, Mexico and Spain have similar content on Netflix, but for different age groups. This implies that while the content offered in these countries may align in terms of themes, genres, or overall style, the target age demographics within each country differ. Netflix recognizes the varying preferences of viewers within different regions and strives to provide tailored content that appeals to specific age groups in each market.\n",
        "\n",
        "* These observations highlight how Netflix adapts its content strategy to cater to the preferences and cultural nuances of different countries and their respective target age demographics."
      ],
      "metadata": {
        "id": "6AYV68hhvx_4"
      }
    },
    {
      "cell_type": "markdown",
      "source": [
        "**8.Originals**\n",
        "\n",
        "Count of Netflix Originals"
      ],
      "metadata": {
        "id": "UWGi7hbRv4kq"
      }
    },
    {
      "cell_type": "code",
      "source": [
        "df['date_added'] = pd.to_datetime(df['date_added'], format ='%B %d, %Y', errors='coerce')\n",
        "movies['year_added'] = df['date_added'].dt.year\n",
        "df"
      ],
      "metadata": {
        "id": "i8Wa6g5Xv_82"
      },
      "execution_count": null,
      "outputs": []
    },
    {
      "cell_type": "markdown",
      "source": [
        "* Some movies and TV shows on Netflix were originally released outside of the platform and were later added to the Netflix library. These titles are not considered Netflix Originals. They include content from various production studios and television networks that have distribution deals with Netflix.\n",
        "\n",
        "* On the other hand, Netflix Originals refer to movies and TV shows that are produced or co-produced by Netflix itself. These titles are exclusively created for the platform and are not available on any other streaming service or traditional television networks. Netflix Originals encompass a wide range of genres and include both original movies and series that are developed and produced by Netflix's own production teams.\n",
        "\n",
        "* By producing original content, Netflix aims to offer unique and exclusive programming to its subscribers, distinguishing itself from other streaming platforms and traditional television networks. Netflix Originals have gained significant popularity and critical acclaim, contributing to the platform's success in attracting and retaining subscribers."
      ],
      "metadata": {
        "id": "d0vZskYIvGpj"
      }
    },
    {
      "cell_type": "code",
      "source": [
        "movies['originals'] = np.where(movies['release_year'] == movies['year_added'], 'Yes', 'No')\n",
        "# pie plot showing percentage of originals and others in movies\n",
        "fig, ax = plt.subplots(figsize=(5,5),facecolor=\"#363336\")\n",
        "ax.patch.set_facecolor('#363336')\n",
        "explode = (0, 0.1)\n",
        "ax.pie(movies['originals'].value_counts(), explode=explode, autopct='%.2f%%', labels= ['Others', 'Originals'],\n",
        "       shadow=True, startangle=90,textprops={'color':\"black\", 'fontsize': 20}, colors =['red','#F5E9F5'])"
      ],
      "metadata": {
        "id": "hwlAJGwyuYqW"
      },
      "execution_count": null,
      "outputs": []
    },
    {
      "cell_type": "markdown",
      "source": [
        "* Based on the given information, approximately 30% of the movies available on Netflix were originally released on the platform itself. These movies are categorized as Netflix Originals, indicating that they were produced or co-produced by Netflix and premiered exclusively on the platform.\n",
        "\n",
        "* On the other hand, about 70% of the movies added to Netflix were previously released through different modes, such as theatrical releases, DVD releases, or releases on other streaming services or television networks. These movies were later acquired by Netflix and made available to their subscribers.\n",
        "\n",
        "* This mix of content on Netflix, with a significant portion being movies released through traditional channels and a substantial percentage being Netflix Originals, allows the platform to offer a diverse range of movies to its audience. It enables them to enjoy both exclusive content created by Netflix and popular movies from various sources that have been curated and added to the Netflix library."
      ],
      "metadata": {
        "id": "g0h3jAywvYTD"
      }
    },
    {
      "cell_type": "markdown",
      "source": [
        "# **Making some Hypothesis**"
      ],
      "metadata": {
        "id": "QQQzMF0avzAl"
      }
    },
    {
      "cell_type": "markdown",
      "source": [
        "**1.HYPOTHESIS TESTING**\n",
        "*   HO:The hypothesis being tested is that movies rated for kids and older kids on Netflix have a duration of equal to or more than two hours.\n",
        "*   H1:The hypothesis being tested is that movies rated for kids and older kids on Netflix have a duration of less than two hours."
      ],
      "metadata": {
        "id": "4F5roBHVv09L"
      }
    },
    {
      "cell_type": "code",
      "source": [
        "movies"
      ],
      "metadata": {
        "id": "mYfcyg-MwBUM"
      },
      "execution_count": null,
      "outputs": []
    },
    {
      "cell_type": "code",
      "source": [
        "#making copy of df_clean_frame\n",
        "df_hypothesis=df.copy()\n",
        "#head of df_hypothesis\n",
        "df_hypothesis.head()"
      ],
      "metadata": {
        "id": "8osYOMg1wBEU"
      },
      "execution_count": null,
      "outputs": []
    },
    {
      "cell_type": "code",
      "source": [
        "#filtering movie from Type_of_show column\n",
        "df_hypothesis = df_hypothesis[df_hypothesis[\"type\"] == \"Movie\"]"
      ],
      "metadata": {
        "id": "abWpueI0wA4Z"
      },
      "execution_count": null,
      "outputs": []
    },
    {
      "cell_type": "code",
      "source": [
        "#with respect to each ratings assigning it into group of categories\n",
        "ratings_ages = {\n",
        "    'TV-PG': 'Older Kids',\n",
        "    'TV-MA': 'Adults',\n",
        "    'TV-Y7-FV': 'Older Kids',\n",
        "    'TV-Y7': 'Older Kids',\n",
        "    'TV-14': 'Teens',\n",
        "    'R': 'Adults',\n",
        "    'TV-Y': 'Kids',\n",
        "    'NR': 'Adults',\n",
        "    'PG-13': 'Teens',\n",
        "    'TV-G': 'Kids',\n",
        "    'PG': 'Older Kids',\n",
        "    'G': 'Kids',\n",
        "    'UR': 'Adults',\n",
        "    'NC-17': 'Adults'\n",
        "}\n",
        "\n",
        "df_hypothesis['target_ages'] = df_hypothesis['rating'].replace(ratings_ages)\n",
        "#let's see unique target ages\n",
        "df_hypothesis['target_ages'].unique()"
      ],
      "metadata": {
        "id": "hZjR_UgiwAsq"
      },
      "execution_count": null,
      "outputs": []
    },
    {
      "cell_type": "code",
      "source": [
        "#Another category is target_ages (4 classes).\n",
        "df_hypothesis['target_ages'] = pd.Categorical(df_hypothesis['target_ages'], categories=['Kids', 'Older Kids', 'Teens', 'Adults'])\n",
        "#from duration feature extractin string part and after extracting Changing the object type to numeric\n",
        "df_hypothesis['duration']= df_hypothesis['duration'].str.extract('(\\d+)')\n",
        "df_hypothesis['duration'] = pd.to_numeric(df_hypothesis['duration'])\n",
        "#head of df_\n",
        "df_hypothesis.head(3)"
      ],
      "metadata": {
        "id": "AIbDSfIQwAek"
      },
      "execution_count": null,
      "outputs": []
    },
    {
      "cell_type": "code",
      "source": [
        "#group_by duration and target_ages\n",
        "group_by_= df_hypothesis[['duration','target_ages']].groupby(by='target_ages')\n",
        "#mean of group_by variable\n",
        "group=group_by_.mean().reset_index()\n",
        "group"
      ],
      "metadata": {
        "id": "8K1q_v3ywpFP"
      },
      "execution_count": null,
      "outputs": []
    },
    {
      "cell_type": "code",
      "source": [
        "#In A and B variable grouping values\n",
        "\n",
        "A= group_by_.get_group('Kids')\n",
        "B= group_by_.get_group('Older Kids')\n",
        "#mean and std. calutation for kids and older kids variables\n",
        "A['target_ages'] = A['target_ages'].astype('category').cat.codes.astype(float)\n",
        "B['target_ages'] = B['target_ages'].astype('category').cat.codes.astype(float)\n",
        "\n",
        "M1 = A.mean()\n",
        "S1 = A.std()\n",
        "\n",
        "M2 = B.mean()\n",
        "S2 = B.std()\n",
        "\n",
        "print('Mean for movies rated for Kids {} \\n Mean for  movies rated for older kids {}'.format(M1,M2))\n",
        "print('Std for  movies rated for Older Kids {} \\n Std for  movies rated for kids {}'.format(S2,S1))"
      ],
      "metadata": {
        "id": "R874leImwo3u"
      },
      "execution_count": null,
      "outputs": []
    },
    {
      "cell_type": "code",
      "source": [
        "from scipy import stats\n",
        "#length of groups and DOF\n",
        "n1 = len(A)\n",
        "n2= len(B)\n",
        "print(n1,n2)\n",
        "\n",
        "dof = n1+n2-2\n",
        "print('dof',dof)\n",
        "\n",
        "sp_2 = ((n2-1)*S1**2  + (n1-1)*S2**2) / dof\n",
        "print('SP_2 =',sp_2)\n",
        "\n",
        "sp = np.sqrt(sp_2)\n",
        "print('SP',sp)\n",
        "\n",
        "#tvalue\n",
        "t_val = (M1-M2)/(sp * np.sqrt(1/n1 + 1/n2))\n",
        "print('tvalue',t_val[0])"
      ],
      "metadata": {
        "id": "YUAXgxQyzYnl"
      },
      "execution_count": null,
      "outputs": []
    },
    {
      "cell_type": "code",
      "source": [
        "#t-distribution\n",
        "stats.t.ppf(0.025,dof)"
      ],
      "metadata": {
        "id": "JH8-b3jKkp6N"
      },
      "execution_count": null,
      "outputs": []
    },
    {
      "cell_type": "code",
      "source": [
        "#t-distribution\n",
        "stats.t.ppf(0.975,dof)"
      ],
      "metadata": {
        "id": "STTjxx-EkpuM"
      },
      "execution_count": null,
      "outputs": []
    },
    {
      "cell_type": "markdown",
      "source": [
        "Because the t-value is not in the range, the null hypothesis is rejected.\n",
        "\n",
        "As a result, movies rated for kids and older kids are not at least two hours long."
      ],
      "metadata": {
        "id": "xJl-nSiqk2Fb"
      }
    },
    {
      "cell_type": "markdown",
      "source": [
        "**2. HYPOTHESIS TESTING**\n",
        "*    H1:The hypothesis being tested is that movies on Netflix have a duration of more than 90 minutes.\n",
        "*   HO:The hypothesis being tested is that there are no movies on Netflix with a duration of more than 90 minutes."
      ],
      "metadata": {
        "id": "eSl9Dnnnk_9X"
      }
    },
    {
      "cell_type": "code",
      "source": [
        "#making copy of df_clean_frame\n",
        "df_hypothesis=df.copy()\n",
        "#head of df_hypothesis\n",
        "df_hypothesis.head()"
      ],
      "metadata": {
        "id": "rd4QC8EnkphT"
      },
      "execution_count": null,
      "outputs": []
    },
    {
      "cell_type": "code",
      "source": [
        "df_hypothesis['duration']= df_hypothesis['duration'].str.extract('(\\d+)')\n",
        "df_hypothesis['duration'] = pd.to_numeric(df_hypothesis['duration'])\n",
        "#head of df_"
      ],
      "metadata": {
        "id": "YopFY0-_lKQ-"
      },
      "execution_count": null,
      "outputs": []
    },
    {
      "cell_type": "code",
      "source": [
        "df_hypothesis['type'] = pd.Categorical(df_hypothesis['type'], categories=['Movie','TV Show'])\n",
        "#from duration feature extractin string part and after extracting Changing the object type to numeric\n",
        "#df_hypothesis['duration']= df_hypothesis['duration'].str.extract('(\\d+)')\n",
        "#df_hypothesis['duration'] = pd.to_numeric(df_hypothesis['duration'])\n",
        "#head of df_\n",
        "df_hypothesis.head(3)"
      ],
      "metadata": {
        "id": "m18t73DflKEP"
      },
      "execution_count": null,
      "outputs": []
    },
    {
      "cell_type": "code",
      "source": [
        "#group_by duration and TYPE\n",
        "group_by_= df_hypothesis[['duration','type']].groupby(by='type')\n",
        "#mean of group_by variable\n",
        "group=group_by_.mean().reset_index()\n",
        "group"
      ],
      "metadata": {
        "id": "xR_k8q5KlJ3k"
      },
      "execution_count": null,
      "outputs": []
    },
    {
      "cell_type": "code",
      "source": [
        "#In A and B variable grouping values\n",
        "A= group_by_.get_group('Movie')\n",
        "B= group_by_.get_group('TV Show')\n",
        "\n",
        "A['type'] = A['type'].astype('category').cat.codes.astype(float)\n",
        "B['type'] = B['type'].astype('category').cat.codes.astype(float)\n",
        "#mean and std\n",
        "M1 = A.mean()\n",
        "S1 = A.std()\n",
        "\n",
        "M2= B.mean()\n",
        "S2 = B.std()\n",
        "\n",
        "print('Mean  {}'.format(M1,M2))\n",
        "print('Std  {}'.format(S2,S1))"
      ],
      "metadata": {
        "id": "ip6g92QjllYM"
      },
      "execution_count": null,
      "outputs": []
    },
    {
      "cell_type": "code",
      "source": [
        "#import stats\n",
        "from scipy import stats\n",
        "#length of groups and DOF\n",
        "n1 = len(A)\n",
        "n2= len(B)\n",
        "print(n1,n2)\n",
        "\n",
        "dof = n1+n2-2\n",
        "print('dof',dof)\n",
        "\n",
        "sp_2 = ((n2-1)*S1**2  + (n1-1)*S2**2) / dof\n",
        "print('SP_2 =',sp_2)\n",
        "\n",
        "sp = np.sqrt(sp_2)\n",
        "print('SP',sp)\n",
        "\n",
        "#tvalue\n",
        "t_val = (M1-M2)/(sp * np.sqrt(1/n1 + 1/n2))\n",
        "print('tvalue',t_val[0])"
      ],
      "metadata": {
        "id": "9xbbAXNJllK4"
      },
      "execution_count": null,
      "outputs": []
    },
    {
      "cell_type": "code",
      "source": [
        "#t-distribution\n",
        "stats.t.ppf(0.025,dof)"
      ],
      "metadata": {
        "id": "xqYypLuRmUHX"
      },
      "execution_count": null,
      "outputs": []
    },
    {
      "cell_type": "code",
      "source": [
        "#t-distribution\n",
        "stats.t.ppf(0.975,dof)"
      ],
      "metadata": {
        "id": "60WEA_6mmT9C"
      },
      "execution_count": null,
      "outputs": []
    },
    {
      "cell_type": "markdown",
      "source": [
        "Because the t-value is not in the range, the null hypothesis is rejected.\n",
        "\n",
        "As a result, The duration which is more than 90 mins are movies"
      ],
      "metadata": {
        "id": "IkckJSznmavS"
      }
    },
    {
      "cell_type": "markdown",
      "source": [
        "# **Feature Engineering**"
      ],
      "metadata": {
        "id": "fDen6Surmirb"
      }
    },
    {
      "cell_type": "code",
      "source": [
        "df.dtypes"
      ],
      "metadata": {
        "id": "2YJa4UfZmlY1"
      },
      "execution_count": null,
      "outputs": []
    },
    {
      "cell_type": "code",
      "source": [
        "import nltk\n",
        "nltk.download('stopwords')\n",
        "from nltk.corpus import stopwords\n",
        "from nltk.tokenize import word_tokenize\n",
        "from nltk.stem.snowball import SnowballStemmer\n",
        "nltk.download('punkt')"
      ],
      "metadata": {
        "id": "CbMzs0VnmlN6"
      },
      "execution_count": null,
      "outputs": []
    },
    {
      "cell_type": "code",
      "source": [
        "df.dtypes"
      ],
      "metadata": {
        "id": "MznBPgxNmlB1"
      },
      "execution_count": null,
      "outputs": []
    },
    {
      "cell_type": "code",
      "source": [
        "df['description'].astype(str)"
      ],
      "metadata": {
        "id": "We0vCZTmm0UI"
      },
      "execution_count": null,
      "outputs": []
    },
    {
      "cell_type": "code",
      "source": [
        "# after above all the changes, those features are in list format, so making list of description feature\n",
        "df['description'] = df['description'].apply(lambda x: x.split(' '))"
      ],
      "metadata": {
        "id": "A0dQllLUm0IA"
      },
      "execution_count": null,
      "outputs": []
    },
    {
      "cell_type": "code",
      "source": [
        "# converting text feature to string from list\n",
        "df['description']= df['description'].apply(lambda x: \" \".join(x))\n",
        "# making all the words in text feature to lowercase\n",
        "df['description']= df['description'].apply(lambda x: x.lower())"
      ],
      "metadata": {
        "id": "rwvdU0nVm_xj"
      },
      "execution_count": null,
      "outputs": []
    },
    {
      "cell_type": "code",
      "source": [
        "def remove_punctuation(text):\n",
        "    '''a function for removing punctuation'''\n",
        "    import string\n",
        "    # replacing the punctuations with no space,\n",
        "    # which in effect deletes the punctuation marks\n",
        "    translator = str.maketrans('', '', string.punctuation)\n",
        "    # return the text stripped of punctuation marks\n",
        "    return text.translate(translator)\n",
        "# applying above function on text feature\n",
        "df['description']= df['description'].apply(remove_punctuation)"
      ],
      "metadata": {
        "id": "L9shM7zRm_kD"
      },
      "execution_count": null,
      "outputs": []
    },
    {
      "cell_type": "code",
      "source": [
        "df['description'][0:10]"
      ],
      "metadata": {
        "id": "T3dzXeVqm_af"
      },
      "execution_count": null,
      "outputs": []
    },
    {
      "cell_type": "code",
      "source": [
        "# using nltk library to download stopwords\n",
        "import nltk\n",
        "nltk.download('stopwords')\n",
        "\n",
        "from nltk.corpus import stopwords\n",
        "sw=stopwords.words('english')\n",
        "#Defining stopwords\n",
        "def stopwords(text):\n",
        "    '''a function for removing the stopword'''\n",
        "    text = [word for word in text.split() if word not in sw]\n",
        "    # joining the list of words with space separator\n",
        "    return \" \".join(text)\n",
        "# applying above function on text feature\n",
        "df['description']=df['description'].apply(stopwords)\n",
        "# this is how value in text looks like after removing stopwords\n",
        "df['description'][0]"
      ],
      "metadata": {
        "id": "9LQVU74Pm_RK"
      },
      "execution_count": null,
      "outputs": []
    },
    {
      "cell_type": "code",
      "source": [
        "# importing TfidVectorizer from sklearn library\n",
        "from sklearn.feature_extraction.text import TfidfVectorizer"
      ],
      "metadata": {
        "id": "r--JprKHnYGN"
      },
      "execution_count": null,
      "outputs": []
    },
    {
      "cell_type": "code",
      "source": [
        "#Applying Tfidf Vectorizer\n",
        "tfidfmodel = TfidfVectorizer(max_features=5000)\n",
        "X_tfidf = tfidfmodel.fit_transform(df['description'])\n",
        "X_tfidf.shape"
      ],
      "metadata": {
        "id": "47Rjq6hsnX6r"
      },
      "execution_count": null,
      "outputs": []
    },
    {
      "cell_type": "code",
      "source": [
        "# convert X into array form for clustering\n",
        "X = X_tfidf.toarray()"
      ],
      "metadata": {
        "id": "0Mp_bjqDnXuN"
      },
      "execution_count": null,
      "outputs": []
    },
    {
      "cell_type": "markdown",
      "source": [
        "# **clustering algorithms**"
      ],
      "metadata": {
        "id": "xFThFSTFnpR9"
      }
    },
    {
      "cell_type": "markdown",
      "source": [
        "**1.Kmean**\n",
        "\n",
        "Finding the optimal number of clusters using the elbow method"
      ],
      "metadata": {
        "id": "BTQ4ZYfpntL2"
      }
    },
    {
      "cell_type": "code",
      "source": [
        "#finding optimal number of clusters using the elbow method\n",
        "from sklearn.cluster import KMeans\n",
        "wcss_list= []  #Initializing the list for the values of WCSS\n",
        "\n",
        "#Using for loop for iterations from 1 to 30.\n",
        "for i in range(1, 30):\n",
        "    kmeans = KMeans(n_clusters=i, init='k-means++', random_state= 42)\n",
        "    kmeans.fit(X)\n",
        "    wcss_list.append(kmeans.inertia_)\n",
        "plt.plot(range(1, 30), wcss_list)\n",
        "plt.title('The Elbow Method Graph')\n",
        "plt.xlabel('Number of clusters(k)')\n",
        "plt.ylabel('wcss_list')\n",
        "plt.show()"
      ],
      "metadata": {
        "id": "-h7ccTULnXiC"
      },
      "execution_count": null,
      "outputs": []
    },
    {
      "cell_type": "code",
      "source": [
        "from sklearn.metrics import silhouette_score\n",
        "#sillhoute score of clusters\n",
        "sill = []\n",
        "for i in range(2,30):\n",
        "    model = KMeans(n_clusters=i,init ='k-means++',random_state=51)\n",
        "    model.fit(X)\n",
        "    y1 = model.predict(X)\n",
        "    score = silhouette_score(X,y1)\n",
        "    sill.append(score)\n",
        "    print('cluster: %d \\t Sillhoute: %0.4f'%(i,score))"
      ],
      "metadata": {
        "id": "c6cxRYUBnXU8"
      },
      "execution_count": null,
      "outputs": []
    },
    {
      "cell_type": "code",
      "source": [
        "#Plotting Sillhoute's score\n",
        "plt.plot(sill,'bs--')\n",
        "plt.xticks(list(range(2,30)),list(range(2,30)))\n",
        "plt.grid(),plt.xlabel('Number of cluster')\n",
        "plt.show()"
      ],
      "metadata": {
        "id": "_Z3Aswenzgwf"
      },
      "execution_count": null,
      "outputs": []
    },
    {
      "cell_type": "markdown",
      "source": [
        "* Based on the **elbow method and silhouette score analysis**, it is suggested to form 26 clusters for the given dataset. The elbow method helps determine the optimal number of clusters by evaluating the distortion or inertia, while the silhouette score measures the quality and separation of the clusters. Both methods indicate that 26 clusters would be appropriate for the dataset based on the available information.italicized text"
      ],
      "metadata": {
        "id": "Tk5XPLH00mv0"
      }
    },
    {
      "cell_type": "code",
      "source": [
        "#training the K-means model on a dataset\n",
        "kmeans = KMeans(n_clusters= 26, init='k-means++', random_state= 42)\n",
        "y_predict= kmeans.fit_predict(X)"
      ],
      "metadata": {
        "id": "vhifGlFJzgcl"
      },
      "execution_count": null,
      "outputs": []
    },
    {
      "cell_type": "markdown",
      "source": [
        "**Evaluation**"
      ],
      "metadata": {
        "id": "U3PBqck41PY2"
      }
    },
    {
      "cell_type": "code",
      "source": [
        "#Predict the clusters and evaluate the silhouette score\n",
        "\n",
        "score = silhouette_score(X, y_predict)\n",
        "print(\"Silhouette score is {}\".format(score))"
      ],
      "metadata": {
        "id": "2nZF8UZa1QWC"
      },
      "execution_count": null,
      "outputs": []
    },
    {
      "cell_type": "code",
      "source": [
        "#davies_bouldin_score of our clusters\n",
        "from sklearn.metrics import davies_bouldin_score\n",
        "davies_bouldin_score(X, y_predict)"
      ],
      "metadata": {
        "id": "0R_uKlcR1TuP"
      },
      "execution_count": null,
      "outputs": []
    },
    {
      "cell_type": "code",
      "source": [
        "#Adding a seperate column for the cluster\n",
        "df[\"cluster\"] = y_predict"
      ],
      "metadata": {
        "id": "LmW7Tj-H1TkD"
      },
      "execution_count": null,
      "outputs": []
    },
    {
      "cell_type": "code",
      "source": [
        "df['cluster'].value_counts()"
      ],
      "metadata": {
        "id": "3tnj7yQs1TaX"
      },
      "execution_count": null,
      "outputs": []
    },
    {
      "cell_type": "code",
      "source": [
        "fig, ax = plt.subplots(figsize=(15,6))\n",
        "sns.countplot(x='cluster', hue='type',lw=5, data=df, ax=ax)"
      ],
      "metadata": {
        "id": "YY0cvNhd1TQs"
      },
      "execution_count": null,
      "outputs": []
    },
    {
      "cell_type": "markdown",
      "source": [
        "* **Cluster 3** has the highest number of Datapoints"
      ],
      "metadata": {
        "id": "L8on6RRU2ClY"
      }
    },
    {
      "cell_type": "code",
      "source": [
        "#SCATTER PLOT FOR CLUSTERS\n",
        "fig = px.scatter(df, y=\"description\", x=\"cluster\",color=\"cluster\")\n",
        "fig.update_traces(marker_size=100)\n",
        "fig.show()"
      ],
      "metadata": {
        "id": "6FTbvrFr2I8H"
      },
      "execution_count": null,
      "outputs": []
    },
    {
      "cell_type": "markdown",
      "source": [
        "**Dendogram**"
      ],
      "metadata": {
        "id": "_twIjbyzg9Y2"
      }
    },
    {
      "cell_type": "code",
      "source": [
        "import scipy.cluster.hierarchy as shc\n",
        "plt.figure(figsize =(8, 8))\n",
        "plt.title('Visualising the data')\n",
        "Dendrogram = shc.dendrogram((shc.linkage(X, method ='ward')))"
      ],
      "metadata": {
        "id": "VMsdAz052I5O"
      },
      "execution_count": null,
      "outputs": []
    },
    {
      "cell_type": "markdown",
      "source": [
        "**2.AgglomerativeClustering**"
      ],
      "metadata": {
        "id": "5rY4KRz3ihUj"
      }
    },
    {
      "cell_type": "code",
      "source": [
        "#Fitting our variable in Agglomerative Clusters\n",
        "from sklearn.cluster import AgglomerativeClustering\n",
        "aggh = AgglomerativeClustering(n_clusters=6, affinity='euclidean', linkage='ward')\n",
        "aggh.fit(X)\n",
        "#Predicting using our model\n",
        "y_hc=aggh.fit_predict(X)"
      ],
      "metadata": {
        "id": "dunda7Lv2I1n"
      },
      "execution_count": null,
      "outputs": []
    },
    {
      "cell_type": "code",
      "source": [
        "df_hierarchical =df.copy()\n",
        "#creating a column where each row is assigned to their separate cluster\n",
        "df_hierarchical['cluster'] = aggh.labels_\n",
        "df_hierarchical.head()"
      ],
      "metadata": {
        "id": "K0-AW5BCiiRK"
      },
      "execution_count": null,
      "outputs": []
    },
    {
      "cell_type": "markdown",
      "source": [
        "**Evaluation**"
      ],
      "metadata": {
        "id": "9IBtHmdBjx16"
      }
    },
    {
      "cell_type": "code",
      "source": [
        "#Silhouette Coefficient\n",
        "print(\"Silhouette Coefficient: %0.3f\"%silhouette_score(X,y_hc, metric='euclidean'))"
      ],
      "metadata": {
        "id": "2ntBWMAziinl"
      },
      "execution_count": null,
      "outputs": []
    },
    {
      "cell_type": "code",
      "source": [
        "#davies_bouldin_score of our clusters\n",
        "from sklearn.metrics import davies_bouldin_score\n",
        "davies_bouldin_score(X, y_hc)"
      ],
      "metadata": {
        "id": "qKGnbiRjj62o"
      },
      "execution_count": null,
      "outputs": []
    },
    {
      "cell_type": "markdown",
      "source": [
        "# **conclusion**"
      ],
      "metadata": {
        "id": "M4ncX7iakOi1"
      }
    },
    {
      "cell_type": "markdown",
      "source": [
        "*  From elbow and sillhoute score ,optimal of 26 clusters formed , K Means is best for identification than Hierarchical as the evaluation metrics also indicates the same.in kmean cluster 0 has the highest number of datapoints\n",
        "and evnly distributed for other cluster\n",
        "*   Netflix has 5372 movies and 2398 TV shows,\n",
        "there are more   number movies on Netflix than TV shows.\n",
        "\n",
        "*   TV-MA has the highest number of ratings for tv shows i,e adult ratings\n",
        "\n",
        "*   Highest Number of movies released in 2017 and 2018\n",
        "Highest number of movies released in 2020\n",
        "The number of movies on Netflix is growing significantly faster than the number of TV shows.\n",
        "We saw a huge increase in the number of movies and television episodes after 2015.\n",
        "there is a significant drop in the number of movies and television episodes produced after 2020.\n",
        "It appears that Netflix has focused more attention on increasing Movie content than TV Shows. Movies have increased much more dramatically than TV shows\n",
        "\n",
        "*   The most content is added to Netflix from october to january\n",
        "\n",
        "*   Documentaries are the top most genre in netflix which is fllowed by standup comedy and Drams and international movies\n",
        "*   Kids tv is the top most  TV show genre in netflix\n",
        "\n",
        "\n",
        "*   Most of the movies have duration of between 50 to 150\n",
        "\n",
        "\n",
        "*   Highest number of tv_shows consistig of single season\n",
        "\n",
        "\n",
        "*   Those movies that have a rating of NC-17 have the longest average duration.\n",
        "\n",
        "When it comes to movies having a TV-Y rating, they have the shortest runtime on average\n",
        "\n",
        "\n",
        "*   Unitated states has the highest number of content on the netflix ,followed    by india\n",
        "\n",
        "*   India has highest number of movies in netflix\n",
        "*   30% movies released on Netflix.\n",
        "70% movies added on Netflix were released earlier by different mode."
      ],
      "metadata": {
        "id": "xDWU3Vqlkr8q"
      }
    },
    {
      "cell_type": "markdown",
      "source": [
        "### ***Hurrah! You have successfully completed your Machine Learning Capstone Project !!!***"
      ],
      "metadata": {
        "id": "gIfDvo9L0UH2"
      }
    }
  ]
}